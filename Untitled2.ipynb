{
 "cells": [
  {
   "cell_type": "markdown",
   "id": "6513e791-45a9-4a94-a0eb-0501f0f45b71",
   "metadata": {},
   "source": [
    "You can use sympy to evaluate definite and indefinite integrals.\n",
    "\n",
    "Here's how you evaluate an indefinite integral with sympy:"
   ]
  },
  {
   "cell_type": "code",
   "execution_count": 2,
   "id": "1ef89799-eff1-4890-ab26-64c2bcc41a50",
   "metadata": {},
   "outputs": [
    {
     "data": {
      "text/latex": [
       "$\\displaystyle R T n \\log{\\left(V \\right)}$"
      ],
      "text/plain": [
       "R*T*n*log(V)"
      ]
     },
     "execution_count": 2,
     "metadata": {},
     "output_type": "execute_result"
    }
   ],
   "source": [
    "import sympy\n",
    "V, n, R, T = sympy.symbols('V n R T')\n",
    "sympy.integrate(n*R*T/V, V)"
   ]
  },
  {
   "cell_type": "markdown",
   "id": "c89dd011-23ee-4c3f-adf4-8212f485666e",
   "metadata": {},
   "source": [
    "Here's how you evaluate a definite integral with sympy:"
   ]
  },
  {
   "cell_type": "code",
   "execution_count": 3,
   "id": "06fb7b4c-c23b-4e8c-bb82-a8f974d1d420",
   "metadata": {},
   "outputs": [
    {
     "data": {
      "text/latex": [
       "$\\displaystyle 2.30258509299405 R T n$"
      ],
      "text/plain": [
       "2.30258509299405*R*T*n"
      ]
     },
     "execution_count": 3,
     "metadata": {},
     "output_type": "execute_result"
    }
   ],
   "source": [
    "sympy.integrate(n*R*T/V, (V, 0.1, 1)).evalf()"
   ]
  },
  {
   "cell_type": "markdown",
   "id": "020eb965-76cf-47c6-b977-2179284bb15a",
   "metadata": {},
   "source": [
    "If you're not excited about all of those significant figures, there's a fix for that."
   ]
  },
  {
   "cell_type": "code",
   "execution_count": 6,
   "id": "ce91fb3c-ad6b-45e7-87bc-3fea09605d3e",
   "metadata": {},
   "outputs": [
    {
     "data": {
      "text/latex": [
       "$\\displaystyle 2.3 R T n$"
      ],
      "text/plain": [
       "2.3*R*T*n"
      ]
     },
     "execution_count": 6,
     "metadata": {},
     "output_type": "execute_result"
    }
   ],
   "source": [
    "sympy.integrate(n*R*T/V, (V, 0.1, 1)).evalf(3)"
   ]
  },
  {
   "cell_type": "markdown",
   "id": "3aedd7b4-16f6-4441-9340-fb49197be098",
   "metadata": {},
   "source": [
    "You can evaluate derivatives, too!"
   ]
  },
  {
   "cell_type": "code",
   "execution_count": 7,
   "id": "526880af-1c55-4d64-a00f-1e46a01b2488",
   "metadata": {},
   "outputs": [
    {
     "data": {
      "text/latex": [
       "$\\displaystyle 2 x$"
      ],
      "text/plain": [
       "2*x"
      ]
     },
     "execution_count": 7,
     "metadata": {},
     "output_type": "execute_result"
    }
   ],
   "source": [
    "x = sympy.symbols('x')\n",
    "sympy.diff(x**2, x, 1)"
   ]
  },
  {
   "cell_type": "code",
   "execution_count": null,
   "id": "fdc6b76a-b7be-4f9a-b719-81277fdd6290",
   "metadata": {},
   "outputs": [],
   "source": []
  }
 ],
 "metadata": {
  "kernelspec": {
   "display_name": "Python 3 (ipykernel)",
   "language": "python",
   "name": "python3"
  },
  "language_info": {
   "codemirror_mode": {
    "name": "ipython",
    "version": 3
   },
   "file_extension": ".py",
   "mimetype": "text/x-python",
   "name": "python",
   "nbconvert_exporter": "python",
   "pygments_lexer": "ipython3",
   "version": "3.11.8"
  }
 },
 "nbformat": 4,
 "nbformat_minor": 5
}
