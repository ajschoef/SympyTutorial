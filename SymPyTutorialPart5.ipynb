{
 "cells": [
  {
   "cell_type": "markdown",
   "id": "6e54d526-9ed9-4823-a4a3-0cc58e67b80a",
   "metadata": {},
   "source": [
    "## Part 5: Examples of Numerical Integration in SymPy\n",
    "\n",
    "One of the major benefits of computer-assisted calculus is numerical integration.\n",
    "\n",
    "Evaluating integrals numerically with SymPy is simple.\n",
    "\n",
    "**First**, import SymPy.\n",
    "\n",
    "**Second**, define your known variables.\n",
    "\n",
    "**Third**, set your symbolic variables using sympy.symbols.\n",
    "\n",
    "**Fourth**, use the sympy.integrate function, and pass it the following arguments:\n",
    "\n",
    "  1) The function\n",
    "  2) A set of three arguments in parentheses:\n",
    "     * The variable you want to integrate with respect to\n",
    "     * The lower bound\n",
    "     * The upper bound\n",
    "\n",
    "**Finally**, at the end of the function, add the \".evalf()\" tag. This tells Python to evaluate the expression.\n",
    "\n",
    "Notice how this is the same as before! SymPy will employ numeric methods automatically when needed.\n",
    "\n",
    "#### Example 1: The Ideal Gas Law\n",
    "\n",
    "Below, we define symbolic and Pythonic variables and ask sympy to calculate a definite integral."
   ]
  },
  {
   "cell_type": "code",
   "execution_count": 26,
   "id": "979861d1-dd65-47ee-a07a-723c6c30b68c",
   "metadata": {},
   "outputs": [
    {
     "data": {
      "text/latex": [
       "$\\displaystyle 47.2358062439531$"
      ],
      "text/plain": [
       "47.2358062439531"
      ]
     },
     "execution_count": 26,
     "metadata": {},
     "output_type": "execute_result"
    }
   ],
   "source": [
    "import sympy\n",
    "R = 0.082057 # L.atm/K.mol\n",
    "T = 250 # K\n",
    "n  = 1 # mol\n",
    "sympy.inetgrate(n*R*T/V, (V, 0.1, 1)).evalf()"
   ]
  },
  {
   "cell_type": "markdown",
   "id": "1407a242-ac29-4431-b225-90b86b48b740",
   "metadata": {},
   "source": [
    "You can set the number of significant figures by inlcuding a value in the evalf() function, as show in the two examples below."
   ]
  },
  {
   "cell_type": "code",
   "execution_count": 67,
   "id": "97b2aa87-d294-4830-a367-674a3a91f337",
   "metadata": {},
   "outputs": [
    {
     "data": {
      "text/latex": [
       "$\\displaystyle 47.23580624395309968122091959230601787567138671875$"
      ],
      "text/plain": [
       "47.235806243953099681220919592306017875671386718750"
      ]
     },
     "execution_count": 67,
     "metadata": {},
     "output_type": "execute_result"
    }
   ],
   "source": [
    "sympy.integrate(n*R*T/V, (V, 0.1, 1)).evalf(50)"
   ]
  },
  {
   "cell_type": "code",
   "execution_count": 31,
   "id": "261466f1-2367-4e66-b6a4-5fb7ea5e661f",
   "metadata": {},
   "outputs": [
    {
     "data": {
      "text/latex": [
       "$\\displaystyle 47.2$"
      ],
      "text/plain": [
       "47.2"
      ]
     },
     "execution_count": 31,
     "metadata": {},
     "output_type": "execute_result"
    }
   ],
   "source": [
    "sympy.integrate(n*R*T/V, (V, 0.1, 1)).evalf(3)"
   ]
  },
  {
   "cell_type": "markdown",
   "id": "8206ba42-e4be-44c6-a7e0-1c8f6b247b2e",
   "metadata": {},
   "source": [
    "Remember, Python doesn't know anything about units, so it's up to us to know that our answer is in Liters. "
   ]
  },
  {
   "cell_type": "markdown",
   "id": "f92cd229-598e-4b8b-bf25-91c13ee170aa",
   "metadata": {},
   "source": [
    "#### Example 2: An exponential\n",
    "\n",
    "Next, let's try a function for which numerical integration is needed. First, we'll simply define the variables and the function:"
   ]
  },
  {
   "cell_type": "code",
   "execution_count": 72,
   "id": "00502dce-9269-4531-878f-7ffde0e94172",
   "metadata": {},
   "outputs": [
    {
     "data": {
      "text/latex": [
       "$\\displaystyle e^{- x^{2}}$"
      ],
      "text/plain": [
       "exp(-x**2)"
      ]
     },
     "execution_count": 72,
     "metadata": {},
     "output_type": "execute_result"
    }
   ],
   "source": [
    "x = sympy.symbols('x')\n",
    "my_function = sympy.exp(-x**2)\n",
    "my_function"
   ]
  },
  {
   "cell_type": "markdown",
   "id": "f4d6e45b-b337-453f-ba8a-4f3e51c3f866",
   "metadata": {},
   "source": [
    "Now that we have a function, we can integrate it using two different sets of limits:\n",
    " 1) -1 and 1\n",
    " 2) negative infinity and infinity\n",
    "\n",
    "(Note that in SymPy, infinity is defined as sympy.oo and e is defined as sympy.exp(). When using e, enclose the exponential term in the parentheses, as shown in the function defnition above.)"
   ]
  },
  {
   "cell_type": "code",
   "execution_count": 65,
   "id": "da84ecb8-0c0a-461c-8524-41967a2a7fea",
   "metadata": {},
   "outputs": [
    {
     "data": {
      "text/latex": [
       "$\\displaystyle 1.49364826562485$"
      ],
      "text/plain": [
       "1.49364826562485"
      ]
     },
     "execution_count": 65,
     "metadata": {},
     "output_type": "execute_result"
    }
   ],
   "source": [
    "sympy.integrate(my_function, (x, -1, 1)).evalf()"
   ]
  },
  {
   "cell_type": "code",
   "execution_count": 69,
   "id": "ce736412-e652-48aa-b3de-c0ebe5f67586",
   "metadata": {},
   "outputs": [
    {
     "data": {
      "text/latex": [
       "$\\displaystyle 1.77245385090552$"
      ],
      "text/plain": [
       "1.77245385090552"
      ]
     },
     "execution_count": 69,
     "metadata": {},
     "output_type": "execute_result"
    }
   ],
   "source": [
    "sympy.integrate(my_function, (x, -sympy.oo, sympy.oo)).evalf()"
   ]
  },
  {
   "cell_type": "markdown",
   "id": "6d866256-2651-47bf-a5ab-aa57e0dac0db",
   "metadata": {},
   "source": [
    "To learn more about numeric integration, check out the SymPy documentation:\n",
    "https://docs.sympy.org/latest/tutorials/intro-tutorial/calculus.html#numeric-integration "
   ]
  },
  {
   "cell_type": "code",
   "execution_count": null,
   "id": "0e2e4272-4dfc-41cd-9391-ee529f6c9c84",
   "metadata": {},
   "outputs": [],
   "source": []
  }
 ],
 "metadata": {
  "kernelspec": {
   "display_name": "Python 3 (ipykernel)",
   "language": "python",
   "name": "python3"
  },
  "language_info": {
   "codemirror_mode": {
    "name": "ipython",
    "version": 3
   },
   "file_extension": ".py",
   "mimetype": "text/x-python",
   "name": "python",
   "nbconvert_exporter": "python",
   "pygments_lexer": "ipython3",
   "version": "3.11.8"
  }
 },
 "nbformat": 4,
 "nbformat_minor": 5
}
