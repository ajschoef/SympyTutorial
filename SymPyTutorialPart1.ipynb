{
 "cells": [
  {
   "cell_type": "markdown",
   "id": "ef4e9a99-e522-403a-9e61-e5b0e2f6be99",
   "metadata": {},
   "source": [
    "This brief tutorial will introduce you to the Python package SymPy, \n",
    "(<ins>Sym</ins>bolic <ins>Py</ins>thon), and how it can be used to perform calculations.\n",
    "\n",
    "By the end of this tutorial you should know how to do the following:\n",
    "\n",
    "1. Define symbolic variables\n",
    "2. Use SymPy to solve for x\n",
    "3. Use SymPy to evaluate derivatives\n",
    "4. Use SymPy to evaluate indefinite and definite integrals, including integrals requiring numeric integration\n",
    "5. Use common mathematical terms (e, inifinity) in SymPy\n",
    "\n",
    "## Part 1: Designating symbolic variables\n",
    "\n",
    "First, let's cover the basics.\n",
    "\n",
    "After importing SymPy, you can designate a set of variables as symbols, as shown below:"
   ]
  },
  {
   "cell_type": "code",
   "execution_count": 7,
   "id": "346ec95a-df5d-4520-95bb-244691bab3cc",
   "metadata": {},
   "outputs": [],
   "source": [
    "import sympy\n",
    "P, V, n, R, T = sympy.symbols('P V n R T')"
   ]
  },
  {
   "cell_type": "markdown",
   "id": "14a96e4d-466a-4807-b824-3db93ab339fc",
   "metadata": {},
   "source": [
    "Designating variables as symbols means they'll be treated as algebraic variables, rather than Pythonic variables. They won't need to store any values or data the way Pythonic variables do--they can just be placeholders, the way you are used to algebraic variables working. This is useful if you want to display equations in an easy-to-interpret way. If the variables are designated as symbols, they'll be displayed as shown below:"
   ]
  },
  {
   "cell_type": "code",
   "execution_count": 8,
   "id": "daf5994b-7bf5-4418-82ae-12ec6da5b73c",
   "metadata": {},
   "outputs": [
    {
     "data": {
      "text/latex": [
       "$\\displaystyle \\frac{R T n}{V}$"
      ],
      "text/plain": [
       "R*T*n/V"
      ]
     },
     "execution_count": 8,
     "metadata": {},
     "output_type": "execute_result"
    }
   ],
   "source": [
    "n*R*T/V"
   ]
  },
  {
   "cell_type": "markdown",
   "id": "144fe0a8-5e0d-4bf5-a15b-bbe88aa9ae94",
   "metadata": {},
   "source": [
    "Using SymPy can also make things like square roots look prettier. For example, in the code below, we use the NumPy version of the square root function, and so Python evaluates the expression and reports the answer as a numeric value. "
   ]
  },
  {
   "cell_type": "code",
   "execution_count": 9,
   "id": "a5d6e991-d69d-4976-918c-c050ec1addcb",
   "metadata": {},
   "outputs": [
    {
     "data": {
      "text/plain": [
       "1.4142135623730951"
      ]
     },
     "execution_count": 9,
     "metadata": {},
     "output_type": "execute_result"
    }
   ],
   "source": [
    "import numpy\n",
    "numpy.sqrt(2)"
   ]
  },
  {
   "cell_type": "markdown",
   "id": "efece39c-eec4-4e67-a3f1-020e6a31f76a",
   "metadata": {},
   "source": [
    "If, on the other hand, we'd rather see the exact, symbolic representation of the square root of two, we can use the SymPy version of the square root function. This tells Python to display the value symbolically, as shown below:"
   ]
  },
  {
   "cell_type": "code",
   "execution_count": 10,
   "id": "257e6baa-be32-43fc-99a4-2f3a819677e3",
   "metadata": {},
   "outputs": [
    {
     "data": {
      "text/latex": [
       "$\\displaystyle \\sqrt{2}$"
      ],
      "text/plain": [
       "sqrt(2)"
      ]
     },
     "execution_count": 10,
     "metadata": {},
     "output_type": "execute_result"
    }
   ],
   "source": [
    "import sympy\n",
    "sympy.sqrt(2)"
   ]
  }
 ],
 "metadata": {
  "kernelspec": {
   "display_name": "Python 3 (ipykernel)",
   "language": "python",
   "name": "python3"
  },
  "language_info": {
   "codemirror_mode": {
    "name": "ipython",
    "version": 3
   },
   "file_extension": ".py",
   "mimetype": "text/x-python",
   "name": "python",
   "nbconvert_exporter": "python",
   "pygments_lexer": "ipython3",
   "version": "3.11.8"
  }
 },
 "nbformat": 4,
 "nbformat_minor": 5
}
