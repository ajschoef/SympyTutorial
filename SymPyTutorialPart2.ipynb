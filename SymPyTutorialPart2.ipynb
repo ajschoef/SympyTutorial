{
 "cells": [
  {
   "cell_type": "markdown",
   "id": "85b53f94-3cce-45a8-9fcb-eac06eb13668",
   "metadata": {},
   "source": [
    "## Part 2: Solving for x\n",
    "\n",
    "SymPy isn't just useful for displaying equations. You can also use SymPy to \"solve for x\", either algebraically or numerically. There are lots of ways to do this! Check out the documentation link at the end of this section to learn about all the options.\n",
    "\n",
    "For now, let's work with a simple case study. Let's say you have a polynomial like this: "
   ]
  },
  {
   "cell_type": "code",
   "execution_count": 53,
   "id": "f341819b-41bc-4dcc-86c0-1002bc9b05c2",
   "metadata": {},
   "outputs": [
    {
     "data": {
      "text/latex": [
       "$\\displaystyle a x^{2} + b x + c$"
      ],
      "text/plain": [
       "a*x**2 + b*x + c"
      ]
     },
     "execution_count": 53,
     "metadata": {},
     "output_type": "execute_result"
    }
   ],
   "source": [
    "import sympy\n",
    "a, b, c, x = sympy.symbols('a b c x')\n",
    "a*x**2 + b*x + c"
   ]
  },
  {
   "cell_type": "markdown",
   "id": "39aa1ceb-cfe7-4d01-86c7-1ec06ce9c448",
   "metadata": {},
   "source": [
    "The SymPy \"solve\" function will find the solution to a polynomial with respect to a variable of your choosing. The first argument in the function should be the equation, and the second argument should be the variable you wish to solve for. "
   ]
  },
  {
   "cell_type": "code",
   "execution_count": 56,
   "id": "32de0cf1-1782-4d9e-84e0-c3dcb679d100",
   "metadata": {},
   "outputs": [
    {
     "name": "stdout",
     "output_type": "stream",
     "text": [
      "[(-b - sqrt(-4*a*c + b**2))/(2*a), (-b + sqrt(-4*a*c + b**2))/(2*a)]\n"
     ]
    }
   ],
   "source": [
    "sympy.solve(a*x**2 + b*x + c, x)"
   ]
  },
  {
   "cell_type": "markdown",
   "id": "0be7761b-4712-453d-bb6c-e3a8747da9a0",
   "metadata": {},
   "source": [
    "Have a look at the results above. There are two of them, and they represent the two solutions of the quadratic equation. \n",
    "\n",
    "You can get sympy to display them in a more interpretable form by editing the square root function, like this:"
   ]
  },
  {
   "cell_type": "code",
   "execution_count": 58,
   "id": "80fd29a7-209c-4636-b60e-a5fdfd305c0d",
   "metadata": {},
   "outputs": [
    {
     "data": {
      "text/latex": [
       "$\\displaystyle \\frac{b}{2 a} - \\frac{\\sqrt{- 4 a c + b^{2}}}{2 a}$"
      ],
      "text/plain": [
       "b/(2*a) - sqrt(-4*a*c + b**2)/(2*a)"
      ]
     },
     "execution_count": 58,
     "metadata": {},
     "output_type": "execute_result"
    }
   ],
   "source": [
    "b/(2*a) - sympy.sqrt(-4*a*c + b**2)/(2*a)"
   ]
  },
  {
   "cell_type": "code",
   "execution_count": 60,
   "id": "54174337-8f0f-4b0e-9ba0-092ec0e89094",
   "metadata": {},
   "outputs": [
    {
     "data": {
      "text/latex": [
       "$\\displaystyle \\frac{b}{2 a} + \\frac{\\sqrt{- 4 a c + b^{2}}}{2 a}$"
      ],
      "text/plain": [
       "b/(2*a) + sqrt(-4*a*c + b**2)/(2*a)"
      ]
     },
     "execution_count": 60,
     "metadata": {},
     "output_type": "execute_result"
    }
   ],
   "source": [
    "b/(2*a) + sympy.sqrt(-4*a*c + b**2)/(2*a)"
   ]
  },
  {
   "cell_type": "markdown",
   "id": "8f368dc1-c9d6-4b45-96cd-6f3fe7017651",
   "metadata": {},
   "source": [
    "Now, let's say you have actual numbers for a, b, and c.\n",
    "\n",
    "You can use SymPy to get the numerical answers if you redefine the variables, giving them numeric values so they'll work more like Pythonic variables."
   ]
  },
  {
   "cell_type": "code",
   "execution_count": 41,
   "id": "97ce63e7-f853-4ead-bfde-9fe1979c74a0",
   "metadata": {},
   "outputs": [
    {
     "data": {
      "text/plain": [
       "[-0.784057287393430, -0.0159427126065696]"
      ]
     },
     "execution_count": 41,
     "metadata": {},
     "output_type": "execute_result"
    }
   ],
   "source": [
    "a = 4\n",
    "b = 3.2\n",
    "c = 0.05\n",
    "sympy.solve(a*x**2 + b*x + c, x)"
   ]
  },
  {
   "cell_type": "markdown",
   "id": "1ca15c10-40a9-466b-80eb-105573aa394f",
   "metadata": {},
   "source": [
    "This time, Python uses the values stored in a, b. and c to evaluate the solution numerically.\n",
    "\n",
    "For more information about solving polynomial equations, see the link below. There are lots of options, and only one is shown in this tutorial, so if you're interested in solving equations (especially more complex ones) with SymPy, be sure to check out the documentation:\n",
    "\n",
    "https://docs.sympy.org/latest/guides/solving/find-roots-polynomial.html#find-the-roots-of-a-polynomial \n"
   ]
  },
  {
   "cell_type": "code",
   "execution_count": null,
   "id": "02136c95-4d3f-4b86-b783-7ec095043a1a",
   "metadata": {},
   "outputs": [],
   "source": []
  }
 ],
 "metadata": {
  "kernelspec": {
   "display_name": "Python 3 (ipykernel)",
   "language": "python",
   "name": "python3"
  },
  "language_info": {
   "codemirror_mode": {
    "name": "ipython",
    "version": 3
   },
   "file_extension": ".py",
   "mimetype": "text/x-python",
   "name": "python",
   "nbconvert_exporter": "python",
   "pygments_lexer": "ipython3",
   "version": "3.11.8"
  }
 },
 "nbformat": 4,
 "nbformat_minor": 5
}
