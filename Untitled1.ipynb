{
 "cells": [
  {
   "cell_type": "markdown",
   "id": "85b53f94-3cce-45a8-9fcb-eac06eb13668",
   "metadata": {},
   "source": [
    "You can use sympy to \"solve for x\", either algebraically or numerically.\n",
    "\n",
    "Let's say you have a polynomial like this. "
   ]
  },
  {
   "cell_type": "code",
   "execution_count": 9,
   "id": "f341819b-41bc-4dcc-86c0-1002bc9b05c2",
   "metadata": {},
   "outputs": [
    {
     "data": {
      "text/latex": [
       "$\\displaystyle a x^{2} + b x + c$"
      ],
      "text/plain": [
       "a*x**2 + b*x + c"
      ]
     },
     "execution_count": 9,
     "metadata": {},
     "output_type": "execute_result"
    }
   ],
   "source": [
    "import sympy\n",
    "a, b, c, x = sympy.symbols('a b c x')\n",
    "a*x**2 + b*x + c"
   ]
  },
  {
   "cell_type": "code",
   "execution_count": 10,
   "id": "32de0cf1-1782-4d9e-84e0-c3dcb679d100",
   "metadata": {},
   "outputs": [
    {
     "data": {
      "text/plain": [
       "{-b/(2*a) - sqrt(-4*a*c + b**2)/(2*a): 1,\n",
       " -b/(2*a) + sqrt(-4*a*c + b**2)/(2*a): 1}"
      ]
     },
     "execution_count": 10,
     "metadata": {},
     "output_type": "execute_result"
    }
   ],
   "source": [
    "sympy.roots(a*x**2 + b*x + c, x)"
   ]
  },
  {
   "cell_type": "markdown",
   "id": "0be7761b-4712-453d-bb6c-e3a8747da9a0",
   "metadata": {},
   "source": [
    "Have a look at the results above... they represent the two solutions of the quadratic equation. \n",
    "\n",
    "You can get sympy to display them by editing the square root function, like this:"
   ]
  },
  {
   "cell_type": "code",
   "execution_count": 11,
   "id": "80fd29a7-209c-4636-b60e-a5fdfd305c0d",
   "metadata": {},
   "outputs": [
    {
     "data": {
      "text/latex": [
       "$\\displaystyle \\frac{b}{2 a} - \\frac{\\sqrt{- 4 a c + b^{2}}}{2 a}$"
      ],
      "text/plain": [
       "b/(2*a) - sqrt(-4*a*c + b**2)/(2*a)"
      ]
     },
     "execution_count": 11,
     "metadata": {},
     "output_type": "execute_result"
    }
   ],
   "source": [
    "b/(2*a) - sympy.sqrt(-4*a*c + b**2)/(2*a)"
   ]
  },
  {
   "cell_type": "code",
   "execution_count": 12,
   "id": "54174337-8f0f-4b0e-9ba0-092ec0e89094",
   "metadata": {},
   "outputs": [
    {
     "data": {
      "text/latex": [
       "$\\displaystyle \\frac{b}{2 a} + \\frac{\\sqrt{- 4 a c + b^{2}}}{2 a}$"
      ],
      "text/plain": [
       "b/(2*a) + sqrt(-4*a*c + b**2)/(2*a)"
      ]
     },
     "execution_count": 12,
     "metadata": {},
     "output_type": "execute_result"
    }
   ],
   "source": [
    "b/(2*a) + sympy.sqrt(-4*a*c + b**2)/(2*a)"
   ]
  },
  {
   "cell_type": "markdown",
   "id": "8f368dc1-c9d6-4b45-96cd-6f3fe7017651",
   "metadata": {},
   "source": [
    "Let's say you have actual numbers for a, b, and c.\n",
    "\n",
    "You can use sympy to get the numerical answers."
   ]
  },
  {
   "cell_type": "code",
   "execution_count": 13,
   "id": "97ce63e7-f853-4ead-bfde-9fe1979c74a0",
   "metadata": {},
   "outputs": [
    {
     "data": {
      "text/plain": [
       "{-0.784057287393431: 1, -0.0159427126065696: 1}"
      ]
     },
     "execution_count": 13,
     "metadata": {},
     "output_type": "execute_result"
    }
   ],
   "source": [
    "a = 4\n",
    "b = 3.2\n",
    "c = 0.05\n",
    "sympy.roots(a*x**2 + b*x + c, x)"
   ]
  },
  {
   "cell_type": "code",
   "execution_count": null,
   "id": "10ce8109-fc0f-47ef-8a35-0f886ddab576",
   "metadata": {},
   "outputs": [],
   "source": []
  },
  {
   "cell_type": "code",
   "execution_count": null,
   "id": "a3338a6c-76a6-45e0-b5d3-2f18be31789e",
   "metadata": {},
   "outputs": [],
   "source": []
  }
 ],
 "metadata": {
  "kernelspec": {
   "display_name": "Python 3 (ipykernel)",
   "language": "python",
   "name": "python3"
  },
  "language_info": {
   "codemirror_mode": {
    "name": "ipython",
    "version": 3
   },
   "file_extension": ".py",
   "mimetype": "text/x-python",
   "name": "python",
   "nbconvert_exporter": "python",
   "pygments_lexer": "ipython3",
   "version": "3.11.8"
  }
 },
 "nbformat": 4,
 "nbformat_minor": 5
}
