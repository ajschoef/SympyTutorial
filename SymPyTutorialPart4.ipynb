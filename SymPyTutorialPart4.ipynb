{
 "cells": [
  {
   "cell_type": "markdown",
   "id": "6513e791-45a9-4a94-a0eb-0501f0f45b71",
   "metadata": {},
   "source": [
    "## Part 4: Integration & Differentiation in SymPy\n",
    "\n",
    "### Integration ###\n",
    "You can use SymPy to evaluate definite and indefinite integrals.\n",
    "\n",
    "Here's how you evaluate an **indefinite integral** with SymPy.\n",
    "\n",
    "**First**, set your symbolic variables using sympy.symbols.\n",
    "\n",
    "**Finally**, use the sympy.integrate function, and pass it the following arguments:\n",
    "  1) The function\n",
    "  2) The variable you want to integrate with respect to"
   ]
  },
  {
   "cell_type": "code",
   "execution_count": 69,
   "id": "1ef89799-eff1-4890-ab26-64c2bcc41a50",
   "metadata": {},
   "outputs": [
    {
     "data": {
      "text/latex": [
       "$\\displaystyle R T n \\log{\\left(V \\right)}$"
      ],
      "text/plain": [
       "R*T*n*log(V)"
      ]
     },
     "execution_count": 69,
     "metadata": {},
     "output_type": "execute_result"
    }
   ],
   "source": [
    "import sympy\n",
    "V, n, R, T = sympy.symbols('V n R T')\n",
    "sympy.integrate(n*R*T/V, V)"
   ]
  },
  {
   "cell_type": "markdown",
   "id": "c89dd011-23ee-4c3f-adf4-8212f485666e",
   "metadata": {},
   "source": [
    "Note that the solution above is displayed *symbolically*. This is because all of the variables have been designated as symbolic variables using the sympy.symbols function.\n",
    "\n",
    "Here's how you evaluate a **definite integral** with SymPy. The set-up is similar, but there are some added steps. The arguments are:\n",
    "  1) The function\n",
    "  2) A set of three arguments in parentheses:\n",
    "     * The variable you want to integrate with respect to\n",
    "     * The lower bound\n",
    "     * The upper bound\n",
    "\n",
    "Finally, at the end of the function, add the \".evalf()\" tag. This tells Python to evaluate the expression."
   ]
  },
  {
   "cell_type": "code",
   "execution_count": 73,
   "id": "06fb7b4c-c23b-4e8c-bb82-a8f974d1d420",
   "metadata": {},
   "outputs": [
    {
     "data": {
      "text/latex": [
       "$\\displaystyle 2.30258509299405 R T n$"
      ],
      "text/plain": [
       "2.30258509299405*R*T*n"
      ]
     },
     "execution_count": 73,
     "metadata": {},
     "output_type": "execute_result"
    }
   ],
   "source": [
    "sympy.integrate(n*R*T/V, (V, 0.1, 1)).evalf()"
   ]
  },
  {
   "cell_type": "markdown",
   "id": "020eb965-76cf-47c6-b977-2179284bb15a",
   "metadata": {},
   "source": [
    "If you're not excited about all of those significant figures, there's a fix for that. Simply put the number of significant figures you want inside the parentheses of the evalf() command. "
   ]
  },
  {
   "cell_type": "code",
   "execution_count": 51,
   "id": "ce91fb3c-ad6b-45e7-87bc-3fea09605d3e",
   "metadata": {},
   "outputs": [
    {
     "data": {
      "text/latex": [
       "$\\displaystyle 2.303 R T n$"
      ],
      "text/plain": [
       "2.303*R*T*n"
      ]
     },
     "execution_count": 51,
     "metadata": {},
     "output_type": "execute_result"
    }
   ],
   "source": [
    "sympy.integrate(n*R*T/V, (V, 0.1, 1)).evalf(4)"
   ]
  },
  {
   "cell_type": "markdown",
   "id": "3aedd7b4-16f6-4441-9340-fb49197be098",
   "metadata": {},
   "source": [
    "### Differentiation ###\n",
    "You can use SymPy to evaluate derivatives, too.\n",
    "\n",
    "The sympy.diff function takes as arguments: \n",
    "\n",
    "1) the expression\n",
    "2) the variable with respect to which you what to differentiate\n",
    "3) the order of the derivative.\n",
    "\n",
    "Below, the first derivative and then the second derivative of x squared (with respect to x) are determined. (Note that we defined x as a symbolic variable as a first step.)"
   ]
  },
  {
   "cell_type": "code",
   "execution_count": 80,
   "id": "526880af-1c55-4d64-a00f-1e46a01b2488",
   "metadata": {},
   "outputs": [
    {
     "data": {
      "text/latex": [
       "$\\displaystyle 2 x$"
      ],
      "text/plain": [
       "2*x"
      ]
     },
     "execution_count": 80,
     "metadata": {},
     "output_type": "execute_result"
    }
   ],
   "source": [
    "x = sympy.symbols('x')\n",
    "\n",
    "# first derivative\n",
    "sympy.diff(x**2, x, 1)"
   ]
  },
  {
   "cell_type": "code",
   "execution_count": 20,
   "id": "fdc6b76a-b7be-4f9a-b719-81277fdd6290",
   "metadata": {},
   "outputs": [
    {
     "data": {
      "text/latex": [
       "$\\displaystyle 2$"
      ],
      "text/plain": [
       "2"
      ]
     },
     "execution_count": 20,
     "metadata": {},
     "output_type": "execute_result"
    }
   ],
   "source": [
    "# second derivative\n",
    "sympy.diff(x**2, x, 2)"
   ]
  },
  {
   "cell_type": "markdown",
   "id": "746a6397-ac1f-41a1-8d7e-a1e64ecabda0",
   "metadata": {},
   "source": [
    "For more information about integration and differentiation in SymPy, see:\n",
    "https://docs.sympy.org/latest/tutorials/intro-tutorial/calculus.html#derivatives "
   ]
  },
  {
   "cell_type": "code",
   "execution_count": null,
   "id": "8b4cf66f-524d-4623-b0d9-403e6bb73d4b",
   "metadata": {},
   "outputs": [],
   "source": []
  }
 ],
 "metadata": {
  "kernelspec": {
   "display_name": "Python 3 (ipykernel)",
   "language": "python",
   "name": "python3"
  },
  "language_info": {
   "codemirror_mode": {
    "name": "ipython",
    "version": 3
   },
   "file_extension": ".py",
   "mimetype": "text/x-python",
   "name": "python",
   "nbconvert_exporter": "python",
   "pygments_lexer": "ipython3",
   "version": "3.11.8"
  }
 },
 "nbformat": 4,
 "nbformat_minor": 5
}
