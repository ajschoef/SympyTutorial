{
 "cells": [
  {
   "cell_type": "markdown",
   "id": "ef4e9a99-e522-403a-9e61-e5b0e2f6be99",
   "metadata": {},
   "source": [
    "This brief tutorial will introduce you to the Python package SymPy, \n",
    "(symbolic python), and how it can be used to perform calculations.\n",
    "\n",
    "First, let's cover the basics.\n",
    "\n",
    "After importing sympy, you can designate certain variables as symbols."
   ]
  },
  {
   "cell_type": "code",
   "execution_count": 7,
   "id": "346ec95a-df5d-4520-95bb-244691bab3cc",
   "metadata": {},
   "outputs": [],
   "source": [
    "import sympy\n",
    "P, V, n, R, T = sympy.symbols('P V n R T')"
   ]
  },
  {
   "cell_type": "markdown",
   "id": "14a96e4d-466a-4807-b824-3db93ab339fc",
   "metadata": {},
   "source": [
    "Designating symbols means they'll be treated as varaibles. This is useful if you want to display equations."
   ]
  },
  {
   "cell_type": "code",
   "execution_count": 8,
   "id": "daf5994b-7bf5-4418-82ae-12ec6da5b73c",
   "metadata": {},
   "outputs": [
    {
     "data": {
      "text/latex": [
       "$\\displaystyle \\frac{R T n}{V}$"
      ],
      "text/plain": [
       "R*T*n/V"
      ]
     },
     "execution_count": 8,
     "metadata": {},
     "output_type": "execute_result"
    }
   ],
   "source": [
    "n*R*T/V"
   ]
  },
  {
   "cell_type": "markdown",
   "id": "144fe0a8-5e0d-4bf5-a15b-bbe88aa9ae94",
   "metadata": {},
   "source": [
    "Using sympy can make things like square roots look prettier. For example, the first example below simply evaluates the square root of 2 and return a numeric value. In the second example, we use the sympy form of the square root function, and so python displays the value symbolically instead."
   ]
  },
  {
   "cell_type": "code",
   "execution_count": 9,
   "id": "a5d6e991-d69d-4976-918c-c050ec1addcb",
   "metadata": {},
   "outputs": [
    {
     "data": {
      "text/plain": [
       "1.4142135623730951"
      ]
     },
     "execution_count": 9,
     "metadata": {},
     "output_type": "execute_result"
    }
   ],
   "source": [
    "import numpy\n",
    "numpy.sqrt(2)"
   ]
  },
  {
   "cell_type": "code",
   "execution_count": 10,
   "id": "257e6baa-be32-43fc-99a4-2f3a819677e3",
   "metadata": {},
   "outputs": [
    {
     "data": {
      "text/latex": [
       "$\\displaystyle \\sqrt{2}$"
      ],
      "text/plain": [
       "sqrt(2)"
      ]
     },
     "execution_count": 10,
     "metadata": {},
     "output_type": "execute_result"
    }
   ],
   "source": [
    "sympy.sqrt(2)"
   ]
  },
  {
   "cell_type": "code",
   "execution_count": null,
   "id": "f238e071-50d0-4642-b2fd-793f49a75e81",
   "metadata": {},
   "outputs": [],
   "source": []
  }
 ],
 "metadata": {
  "kernelspec": {
   "display_name": "Python 3 (ipykernel)",
   "language": "python",
   "name": "python3"
  },
  "language_info": {
   "codemirror_mode": {
    "name": "ipython",
    "version": 3
   },
   "file_extension": ".py",
   "mimetype": "text/x-python",
   "name": "python",
   "nbconvert_exporter": "python",
   "pygments_lexer": "ipython3",
   "version": "3.11.8"
  }
 },
 "nbformat": 4,
 "nbformat_minor": 5
}
