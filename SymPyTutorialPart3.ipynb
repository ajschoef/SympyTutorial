{
 "cells": [
  {
   "cell_type": "markdown",
   "id": "1a655a2f-941e-4bab-bd01-d1be1e33c01c",
   "metadata": {},
   "source": [
    "## Part 3: Solving Cubic Equations\n",
    "\n",
    "Now that you know the basics of solving simple equations in SymPy, let's consider a slightly more complex case. For this example, we'll work with an equation that is relevant to physical chemistry: the van der Waals equation of state. "
   ]
  },
  {
   "cell_type": "markdown",
   "id": "f6b95f77-e89b-4a49-9388-1afc0c130a8a",
   "metadata": {},
   "source": [
    "**First**, we'll import SymPy.\n",
    "\n",
    "**Second**, we must designate the variables we want to be symbolic and define those for which we have values. In this case, we're designating molar volume as a symbolic variable and assigning values to everything else.\n",
    "\n",
    "Note that the values below are for diatomic chlorine gas.\n",
    "Notice that the units are given as comments after the variable definitions."
   ]
  },
  {
   "cell_type": "code",
   "execution_count": 57,
   "id": "62b32913-d6d2-46ac-95ad-f8b26f568751",
   "metadata": {},
   "outputs": [],
   "source": [
    "import sympy\n",
    "Vm = sympy.symbols('Vm') # L/mol\n",
    "P = 1.48 # atm\n",
    "R = 0.082057 # L.atm/K.mol\n",
    "T = 250 # K\n",
    "a = 6.260  # atm.L**2/mol**2 \n",
    "b = 0.0542 # L/mol"
   ]
  },
  {
   "cell_type": "markdown",
   "id": "e1b61126-9345-4bb7-8579-396aa3595a96",
   "metadata": {},
   "source": [
    "Now that our variables are defined, we can define the van der Waals equation. (Recall that the double asterisk indicates the power function in Python.)\n",
    "\n",
    "In this example, we're storing the van der Waals equation in a new variable called vdw. "
   ]
  },
  {
   "cell_type": "code",
   "execution_count": 60,
   "id": "314292d8-fe5d-4aab-9148-f7a291bdb0a4",
   "metadata": {},
   "outputs": [],
   "source": [
    "vdw = P*(Vm**3) - b*P*(Vm**2) - R*T*(Vm**2) + a*Vm - a*b"
   ]
  },
  {
   "cell_type": "markdown",
   "id": "34f4d6bd-2522-4920-a293-a9c41885a081",
   "metadata": {},
   "source": [
    "Finally, we are ready to evaluate the solutions of the van der Waals equation using the sympy.solve function. This function takes the following arguments:\n",
    "\n",
    "1. the function first\n",
    "2. the variable you want to solve for\n",
    "   \n",
    "In this case, we must also set the \"cubics\" term to False to avoid returning imaginary numbers as part of the solution set. (When using sympy.solve to find the roots of cubic or quartric polynomials, you should typically set cubics = False or quartrics = False.)\n"
   ]
  },
  {
   "cell_type": "code",
   "execution_count": 63,
   "id": "e5d01355-c152-47fd-ab19-f94b053679f5",
   "metadata": {},
   "outputs": [
    {
     "data": {
      "text/plain": [
       "[0.0704417205751141, 0.239202833361794, 13.6055351757928]"
      ]
     },
     "execution_count": 63,
     "metadata": {},
     "output_type": "execute_result"
    }
   ],
   "source": [
    "sympy.solve(vdw, Vm, cubics = False)"
   ]
  },
  {
   "cell_type": "markdown",
   "id": "90971a4e-7470-4a92-84bd-a3ada85f2334",
   "metadata": {},
   "source": [
    "It's important to remember that **Python doesn't know anything about units.** It's up to us to know that the units of our results are L/mol.\n",
    "\n",
    "**It's a good practice when you're writing problem-solving code to put the units of any defined variables as comments after the value, as exemplified here.** That way, if you come back to use your code many weeks later, you don't have to reconstruct your unit analysis."
   ]
  },
  {
   "cell_type": "markdown",
   "id": "2cb802ba-f01e-40ab-afa0-58ebc98e63fe",
   "metadata": {},
   "source": [
    "For more information about the sympy.roots function, see:\n",
    "https://docs.sympy.org/latest/guides/solving/find-roots-polynomial.html "
   ]
  }
 ],
 "metadata": {
  "kernelspec": {
   "display_name": "Python 3 (ipykernel)",
   "language": "python",
   "name": "python3"
  },
  "language_info": {
   "codemirror_mode": {
    "name": "ipython",
    "version": 3
   },
   "file_extension": ".py",
   "mimetype": "text/x-python",
   "name": "python",
   "nbconvert_exporter": "python",
   "pygments_lexer": "ipython3",
   "version": "3.11.8"
  }
 },
 "nbformat": 4,
 "nbformat_minor": 5
}
